{
 "cells": [
  {
   "cell_type": "code",
   "execution_count": 1,
   "metadata": {},
   "outputs": [],
   "source": [
    "import time\n",
    "import numpy as np\n",
    "import h5py\n",
    "import matplotlib.pyplot as plt\n",
    "from PIL import Image\n",
    "from dnn_app_utils_v3 import *\n",
    "import torch\n",
    "import torchvision\n",
    "from torch.utils.data import TensorDataset\n",
    "from torch.utils.data import DataLoader\n",
    "\n",
    "%matplotlib inline\n",
    "plt.rcParams['figure.figsize'] = (5.0, 4.0) # set default size of plots\n",
    "plt.rcParams['image.interpolation'] = 'nearest'\n",
    "plt.rcParams['image.cmap'] = 'gray'\n",
    "\n",
    "%load_ext autoreload\n",
    "%autoreload 2\n",
    "\n",
    "np.random.seed(1)"
   ]
  },
  {
   "cell_type": "code",
   "execution_count": 2,
   "metadata": {},
   "outputs": [],
   "source": [
    "train_x_orig, train_y, test_x_orig, test_y, classes = load_data()"
   ]
  },
  {
   "cell_type": "code",
   "execution_count": 3,
   "metadata": {},
   "outputs": [
    {
     "name": "stdout",
     "output_type": "stream",
     "text": [
      "y = 1. It's a cat picture.\n"
     ]
    },
    {
     "data": {
      "image/png": "[encoded data removed]",
      "text/plain": [
       "<Figure size 360x288 with 1 Axes>"
      ]
     },
     "metadata": {
      "needs_background": "light"
     },
     "output_type": "display_data"
    }
   ],
   "source": [
    "index = 7\n",
    "plt.imshow(train_x_orig[index])\n",
    "print (\"y = \" + str(train_y[0,index]) + \". It's a \" + classes[train_y[0,index]].decode(\"utf-8\") +  \" picture.\")"
   ]
  },
  {
   "cell_type": "code",
   "execution_count": 4,
   "metadata": {},
   "outputs": [
    {
     "name": "stdout",
     "output_type": "stream",
     "text": [
      "train_x's shape: (12288, 209)\n",
      "test_x's shape: (12288, 50)\n"
     ]
    }
   ],
   "source": [
    "# Reshape the training and test examples \n",
    "train_x_flatten = train_x_orig.reshape(train_x_orig.shape[0], -1).T   # The \"-1\" makes reshape flatten the remaining dimensions\n",
    "test_x_flatten = test_x_orig.reshape(test_x_orig.shape[0], -1).T\n",
    "\n",
    "# Standardize data to have feature values between 0 and 1.\n",
    "train_x = train_x_flatten/255.\n",
    "test_x = test_x_flatten/255.\n",
    "\n",
    "print (\"train_x's shape: \" + str(train_x.shape))\n",
    "print (\"test_x's shape: \" + str(test_x.shape))"
   ]
  },
  {
   "cell_type": "code",
   "execution_count": 5,
   "metadata": {},
   "outputs": [
    {
     "name": "stdout",
     "output_type": "stream",
     "text": [
      "train_x's shape: torch.Size([209, 12288])\n",
      "train_y's shape: torch.Size([209, 1])\n",
      "test_x's shape: torch.Size([50, 12288])\n"
     ]
    }
   ],
   "source": [
    "train_x = torch.tensor(train_x.T, dtype=torch.float32)\n",
    "train_y = torch.tensor(train_y.T, dtype=torch.float32)\n",
    "print (\"train_x's shape: \" + str(train_x.shape))\n",
    "print (\"train_y's shape: \" + str(train_y.shape))\n",
    "\n",
    "test_x = torch.tensor(test_x.T, dtype=torch.float32)\n",
    "print (\"test_x's shape: \" + str(test_x.shape))\n"
   ]
  },
  {
   "cell_type": "code",
   "execution_count": 6,
   "metadata": {},
   "outputs": [],
   "source": [
    "train_ds = TensorDataset(train_x, train_y)\n",
    "train_dl = DataLoader(train_ds, batch_size=32, shuffle=True)"
   ]
  },
  {
   "cell_type": "code",
   "execution_count": 7,
   "metadata": {},
   "outputs": [],
   "source": [
    "model = torch.nn.Sequential(\n",
    "    # 1\n",
    "    torch.nn.Linear(12288, 20), \n",
    "    torch.nn.ReLU(),\n",
    "    # 2\n",
    "    torch.nn.Linear(20, 7), \n",
    "    torch.nn.ReLU(),\n",
    "    # 3\n",
    "    torch.nn.Linear(7, 5), \n",
    "    torch.nn.ReLU(),\n",
    "    # 4\n",
    "    torch.nn.Linear(5, 1), \n",
    "    torch.nn.Sigmoid()\n",
    "    )"
   ]
  },
  {
   "cell_type": "code",
   "execution_count": 8,
   "metadata": {},
   "outputs": [],
   "source": [
    "creterion = torch.nn.BCELoss()\n",
    "optimizer = torch.optim.SGD(model.parameters(), lr=0.001)"
   ]
  },
  {
   "cell_type": "code",
   "execution_count": 9,
   "metadata": {},
   "outputs": [],
   "source": [
    "def train(epochs):\n",
    "    for epoch in range (epochs):\n",
    "        for x, y in train_dl:\n",
    "            output = model(x)\n",
    "            loss = creterion(output, y)\n",
    "            optimizer.zero_grad()\n",
    "            loss.backward()\n",
    "            optimizer.step()\n",
    "        if epoch % 100 == 0:\n",
    "            print(epoch, loss.item())"
   ]
  },
  {
   "cell_type": "code",
   "execution_count": 10,
   "metadata": {},
   "outputs": [
    {
     "name": "stdout",
     "output_type": "stream",
     "text": [
      "0 0.788971483707428\n",
      "100 0.64140784740448\n",
      "200 0.6842594146728516\n",
      "300 0.48397108912467957\n",
      "400 0.5640790462493896\n",
      "500 0.7050912380218506\n",
      "600 0.47911521792411804\n",
      "700 0.5318652987480164\n",
      "800 0.5492042303085327\n",
      "900 0.42506736516952515\n",
      "1000 0.24005690217018127\n",
      "1100 0.2916317582130432\n",
      "1200 0.08587179332971573\n",
      "1300 0.07020776718854904\n",
      "1400 0.09897823631763458\n",
      "1500 0.027882834896445274\n",
      "1600 0.031038276851177216\n",
      "1700 0.015343802981078625\n",
      "1800 0.016072900965809822\n",
      "1900 0.00789986364543438\n",
      "2000 0.009547163732349873\n",
      "2100 0.010809632949531078\n",
      "2200 0.006779252085834742\n",
      "2300 0.006412638816982508\n",
      "2400 0.006910873576998711\n"
     ]
    }
   ],
   "source": [
    "train(2500) # число итераций обучения"
   ]
  },
  {
   "cell_type": "code",
   "execution_count": 11,
   "metadata": {},
   "outputs": [],
   "source": [
    "torch.save(model, \"model.pt\")"
   ]
  },
  {
   "cell_type": "code",
   "execution_count": 12,
   "metadata": {},
   "outputs": [
    {
     "data": {
      "text/plain": [
       "Sequential(\n",
       "  (0): Linear(in_features=12288, out_features=20, bias=True)\n",
       "  (1): ReLU()\n",
       "  (2): Linear(in_features=20, out_features=7, bias=True)\n",
       "  (3): ReLU()\n",
       "  (4): Linear(in_features=7, out_features=5, bias=True)\n",
       "  (5): ReLU()\n",
       "  (6): Linear(in_features=5, out_features=1, bias=True)\n",
       "  (7): Sigmoid()\n",
       ")"
      ]
     },
     "execution_count": 12,
     "metadata": {},
     "output_type": "execute_result"
    }
   ],
   "source": [
    "model = torch.load(\"model.pt\")\n",
    "model.eval()"
   ]
  },
  {
   "cell_type": "code",
   "execution_count": 13,
   "metadata": {},
   "outputs": [],
   "source": [
    "def predict(self, test_images):\n",
    "    self.eval()\n",
    "    \n",
    "    count = test_images.shape[0]\n",
    "    result_np = []\n",
    "        \n",
    "    for idx in range(0, count):\n",
    "        pred = self(test_images[idx])\n",
    "        pred_np = pred.detach().numpy()\n",
    "        for elem in pred_np:\n",
    "            result_np.append(elem)\n",
    "    return result_np"
   ]
  },
  {
   "cell_type": "code",
   "execution_count": 14,
   "metadata": {},
   "outputs": [
    {
     "name": "stdout",
     "output_type": "stream",
     "text": [
      "50\n",
      "[0.98826796, 0.9998951, 0.9597845, 0.9995246, 0.802215, 0.8894313, 0.0007096021, 0.8936491, 0.969533, 0.9836137, 0.9216989, 0.9993175, 0.9833175, 0.99992573, 1.860939e-05, 0.9920661, 0.0006264503, 0.9963205, 0.013314507, 1.9186687e-05, 0.9867323, 0.03594433, 2.799281e-06, 0.9886905, 0.87263954, 0.9538706, 0.9466009, 8.278319e-06, 0.010217051, 0.999587, 0.37373218, 0.98742, 0.9943785, 0.94544655, 0.74057436, 0.00013046726, 0.0015101942, 0.94954056, 0.50218195, 0.004907552, 0.8188795, 0.50415593, 0.7713171, 0.00085570087, 0.9956962, 0.034315977, 0.0080175325, 0.999764, 0.6501853, 0.0018090663]\n"
     ]
    }
   ],
   "source": [
    "res = predict(model, test_x)\n",
    "print(len(res))\n",
    "print(res)"
   ]
  }
 ],
 "metadata": {
  "kernelspec": {
   "display_name": "Python 3 (ipykernel)",
   "language": "python",
   "name": "python3"
  },
  "language_info": {
   "codemirror_mode": {
    "name": "ipython",
    "version": 3
   },
   "file_extension": ".py",
   "mimetype": "text/x-python",
   "name": "python",
   "nbconvert_exporter": "python",
   "pygments_lexer": "ipython3",
   "version": "3.9.12"
  },
  "toc": {
   "base_numbering": 1,
   "nav_menu": {},
   "number_sections": true,
   "sideBar": true,
   "skip_h1_title": false,
   "title_cell": "Table of Contents",
   "title_sidebar": "Contents",
   "toc_cell": false,
   "toc_position": {},
   "toc_section_display": true,
   "toc_window_display": false
  },
  "vscode": {
   "interpreter": {
    "hash": "0a54084e6b208ee8d1ce3989ffc20924477a5f55f5a43e22e699a6741623861e"
   }
  }
 },
 "nbformat": 4,
 "nbformat_minor": 2
}
