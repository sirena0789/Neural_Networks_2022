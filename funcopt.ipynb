{
 "cells": [
  {
   "cell_type": "code",
   "execution_count": 7,
   "id": "3844d3cb",
   "metadata": {},
   "outputs": [
    {
     "name": "stdout",
     "output_type": "stream",
     "text": [
      "iteration 0, x1 4.0, x2 2.4000000953674316, loss -16.0\n",
      "iteration 1, x1 4.0, x2 2.0799999237060547, loss -31.360000610351562\n",
      "iteration 2, x1 4.0, x2 2.0160000324249268, loss -31.97439956665039\n",
      "iteration 3, x1 4.0, x2 2.003200054168701, loss -31.998971939086914\n",
      "iteration 4, x1 4.0, x2 2.0006399154663086, loss -31.99995994567871\n",
      "iteration 5, x1 4.0, x2 2.0001280307769775, loss -31.999998092651367\n",
      "iteration 6, x1 4.0, x2 2.000025510787964, loss -31.999996185302734\n",
      "iteration 7, x1 4.0, x2 2.000005006790161, loss -32.000003814697266\n",
      "iteration 8, x1 4.0, x2 2.0000009536743164, loss -31.999996185302734\n",
      "iteration 9, x1 4.0, x2 2.000000238418579, loss -32.0\n",
      "iteration 10, x1 4.0, x2 2.0, loss -31.999996185302734\n",
      "iteration 11, x1 4.0, x2 2.0, loss -32.0\n",
      "iteration 12, x1 4.0, x2 2.0, loss -32.0\n"
     ]
    }
   ],
   "source": [
    "import torch\n",
    "\n",
    "def f(x1,x2):\n",
    "    return -8*x1 - 16*x2 + x1**2 + 4*x2**2\n",
    "\n",
    "x1 = torch.tensor(4, dtype=torch.float32, requires_grad=True)\n",
    "x2 = torch.tensor(4, dtype=torch.float32, requires_grad=True)\n",
    "optimizer = torch.optim.SGD([x1,x2], lr=0.1)\n",
    "\n",
    "for i in range(13):\n",
    "    y = f(x1,x2)\n",
    "    optimizer.zero_grad()\n",
    "    y.backward()\n",
    "    optimizer.step()\n",
    "    print(f'iteration {i}, x1 {x1}, x2 {x2}, loss {y}')"
   ]
  }
 ],
 "metadata": {
  "kernelspec": {
   "display_name": "Python 3 (ipykernel)",
   "language": "python",
   "name": "python3"
  },
  "language_info": {
   "codemirror_mode": {
    "name": "ipython",
    "version": 3
   },
   "file_extension": ".py",
   "mimetype": "text/x-python",
   "name": "python",
   "nbconvert_exporter": "python",
   "pygments_lexer": "ipython3",
   "version": "3.9.12"
  },
  "toc": {
   "base_numbering": 1,
   "nav_menu": {},
   "number_sections": true,
   "sideBar": true,
   "skip_h1_title": false,
   "title_cell": "Table of Contents",
   "title_sidebar": "Contents",
   "toc_cell": false,
   "toc_position": {},
   "toc_section_display": true,
   "toc_window_display": false
  }
 },
 "nbformat": 4,
 "nbformat_minor": 5
}
